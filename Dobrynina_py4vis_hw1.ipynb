{
  "cells": [
    {
      "cell_type": "markdown",
      "id": "256f0cd2",
      "metadata": {
        "id": "256f0cd2"
      },
      "source": [
        "# Python fo visualizing: HW 1\n",
        "Dobrynina Anastasia, group 213"
      ]
    },
    {
      "cell_type": "markdown",
      "id": "ba2aca70",
      "metadata": {
        "id": "ba2aca70"
      },
      "source": [
        "### Task\n",
        "Take the Pearson's father-son data. To properly use linear regression between two variables one needs to ensure that both variables are distributed normally. This is what you are going to do in this assignment.\n",
        "\n",
        "You will need a figure with multople subplots of different size: the top left one should be bigger than the others.\n",
        "\n",
        "* On the top left plot simply scatterplot the data with x being fathers' heights and y being respective sons' heights.\n",
        "* Now choose 3 (see note below) segments on the x axis and independently choose 3 segments on the y axis.\n",
        "* Below the previous plot show the histogram of x values on the first x axis segment. Below it do the same thing for the second x axis segment. Below it do the same thing for the third x axis segment.\n",
        "* To the right of the scatterplot do the vertical histogram of the y axis values within the first y axis segment. To the right of it do the same thing for the second y axis segment. To the right of it do the same thing for the third y axis segment.\n",
        "* This part earns you 8 points\n",
        "\n",
        "Provide figure with some title, use some other font than the default one used for axes. You get 1 point if you use pre-installed font or 2 points if you use some font from the web, remember to provide the link for me to download it."
      ]
    },
    {
      "cell_type": "code",
      "execution_count": 1,
      "id": "057247f7",
      "metadata": {
        "id": "057247f7"
      },
      "outputs": [],
      "source": [
        "import pandas as pd\n",
        "import matplotlib\n",
        "from matplotlib import pyplot as plt\n",
        "from matplotlib import font_manager"
      ]
    },
    {
      "cell_type": "code",
      "execution_count": 4,
      "id": "1849484a",
      "metadata": {
        "colab": {
          "base_uri": "https://localhost:8080/",
          "height": 423
        },
        "id": "1849484a",
        "outputId": "092e3be8-e9d7-4769-975f-1818fd9956d5"
      },
      "outputs": [
        {
          "output_type": "execute_result",
          "data": {
            "text/plain": [
              "      Father   Son\n",
              "0       65.0  59.8\n",
              "1       63.3  63.2\n",
              "2       65.0  63.3\n",
              "3       65.8  62.8\n",
              "4       61.1  64.3\n",
              "...      ...   ...\n",
              "1073    67.0  70.8\n",
              "1074    71.3  68.3\n",
              "1075    71.8  69.3\n",
              "1076    70.7  69.3\n",
              "1077    70.3  67.0\n",
              "\n",
              "[1078 rows x 2 columns]"
            ],
            "text/html": [
              "\n",
              "  <div id=\"df-108f8094-eab6-44fb-82b4-b4ddfa68b052\">\n",
              "    <div class=\"colab-df-container\">\n",
              "      <div>\n",
              "<style scoped>\n",
              "    .dataframe tbody tr th:only-of-type {\n",
              "        vertical-align: middle;\n",
              "    }\n",
              "\n",
              "    .dataframe tbody tr th {\n",
              "        vertical-align: top;\n",
              "    }\n",
              "\n",
              "    .dataframe thead th {\n",
              "        text-align: right;\n",
              "    }\n",
              "</style>\n",
              "<table border=\"1\" class=\"dataframe\">\n",
              "  <thead>\n",
              "    <tr style=\"text-align: right;\">\n",
              "      <th></th>\n",
              "      <th>Father</th>\n",
              "      <th>Son</th>\n",
              "    </tr>\n",
              "  </thead>\n",
              "  <tbody>\n",
              "    <tr>\n",
              "      <th>0</th>\n",
              "      <td>65.0</td>\n",
              "      <td>59.8</td>\n",
              "    </tr>\n",
              "    <tr>\n",
              "      <th>1</th>\n",
              "      <td>63.3</td>\n",
              "      <td>63.2</td>\n",
              "    </tr>\n",
              "    <tr>\n",
              "      <th>2</th>\n",
              "      <td>65.0</td>\n",
              "      <td>63.3</td>\n",
              "    </tr>\n",
              "    <tr>\n",
              "      <th>3</th>\n",
              "      <td>65.8</td>\n",
              "      <td>62.8</td>\n",
              "    </tr>\n",
              "    <tr>\n",
              "      <th>4</th>\n",
              "      <td>61.1</td>\n",
              "      <td>64.3</td>\n",
              "    </tr>\n",
              "    <tr>\n",
              "      <th>...</th>\n",
              "      <td>...</td>\n",
              "      <td>...</td>\n",
              "    </tr>\n",
              "    <tr>\n",
              "      <th>1073</th>\n",
              "      <td>67.0</td>\n",
              "      <td>70.8</td>\n",
              "    </tr>\n",
              "    <tr>\n",
              "      <th>1074</th>\n",
              "      <td>71.3</td>\n",
              "      <td>68.3</td>\n",
              "    </tr>\n",
              "    <tr>\n",
              "      <th>1075</th>\n",
              "      <td>71.8</td>\n",
              "      <td>69.3</td>\n",
              "    </tr>\n",
              "    <tr>\n",
              "      <th>1076</th>\n",
              "      <td>70.7</td>\n",
              "      <td>69.3</td>\n",
              "    </tr>\n",
              "    <tr>\n",
              "      <th>1077</th>\n",
              "      <td>70.3</td>\n",
              "      <td>67.0</td>\n",
              "    </tr>\n",
              "  </tbody>\n",
              "</table>\n",
              "<p>1078 rows × 2 columns</p>\n",
              "</div>\n",
              "      <button class=\"colab-df-convert\" onclick=\"convertToInteractive('df-108f8094-eab6-44fb-82b4-b4ddfa68b052')\"\n",
              "              title=\"Convert this dataframe to an interactive table.\"\n",
              "              style=\"display:none;\">\n",
              "        \n",
              "  <svg xmlns=\"http://www.w3.org/2000/svg\" height=\"24px\"viewBox=\"0 0 24 24\"\n",
              "       width=\"24px\">\n",
              "    <path d=\"M0 0h24v24H0V0z\" fill=\"none\"/>\n",
              "    <path d=\"M18.56 5.44l.94 2.06.94-2.06 2.06-.94-2.06-.94-.94-2.06-.94 2.06-2.06.94zm-11 1L8.5 8.5l.94-2.06 2.06-.94-2.06-.94L8.5 2.5l-.94 2.06-2.06.94zm10 10l.94 2.06.94-2.06 2.06-.94-2.06-.94-.94-2.06-.94 2.06-2.06.94z\"/><path d=\"M17.41 7.96l-1.37-1.37c-.4-.4-.92-.59-1.43-.59-.52 0-1.04.2-1.43.59L10.3 9.45l-7.72 7.72c-.78.78-.78 2.05 0 2.83L4 21.41c.39.39.9.59 1.41.59.51 0 1.02-.2 1.41-.59l7.78-7.78 2.81-2.81c.8-.78.8-2.07 0-2.86zM5.41 20L4 18.59l7.72-7.72 1.47 1.35L5.41 20z\"/>\n",
              "  </svg>\n",
              "      </button>\n",
              "      \n",
              "  <style>\n",
              "    .colab-df-container {\n",
              "      display:flex;\n",
              "      flex-wrap:wrap;\n",
              "      gap: 12px;\n",
              "    }\n",
              "\n",
              "    .colab-df-convert {\n",
              "      background-color: #E8F0FE;\n",
              "      border: none;\n",
              "      border-radius: 50%;\n",
              "      cursor: pointer;\n",
              "      display: none;\n",
              "      fill: #1967D2;\n",
              "      height: 32px;\n",
              "      padding: 0 0 0 0;\n",
              "      width: 32px;\n",
              "    }\n",
              "\n",
              "    .colab-df-convert:hover {\n",
              "      background-color: #E2EBFA;\n",
              "      box-shadow: 0px 1px 2px rgba(60, 64, 67, 0.3), 0px 1px 3px 1px rgba(60, 64, 67, 0.15);\n",
              "      fill: #174EA6;\n",
              "    }\n",
              "\n",
              "    [theme=dark] .colab-df-convert {\n",
              "      background-color: #3B4455;\n",
              "      fill: #D2E3FC;\n",
              "    }\n",
              "\n",
              "    [theme=dark] .colab-df-convert:hover {\n",
              "      background-color: #434B5C;\n",
              "      box-shadow: 0px 1px 3px 1px rgba(0, 0, 0, 0.15);\n",
              "      filter: drop-shadow(0px 1px 2px rgba(0, 0, 0, 0.3));\n",
              "      fill: #FFFFFF;\n",
              "    }\n",
              "  </style>\n",
              "\n",
              "      <script>\n",
              "        const buttonEl =\n",
              "          document.querySelector('#df-108f8094-eab6-44fb-82b4-b4ddfa68b052 button.colab-df-convert');\n",
              "        buttonEl.style.display =\n",
              "          google.colab.kernel.accessAllowed ? 'block' : 'none';\n",
              "\n",
              "        async function convertToInteractive(key) {\n",
              "          const element = document.querySelector('#df-108f8094-eab6-44fb-82b4-b4ddfa68b052');\n",
              "          const dataTable =\n",
              "            await google.colab.kernel.invokeFunction('convertToInteractive',\n",
              "                                                     [key], {});\n",
              "          if (!dataTable) return;\n",
              "\n",
              "          const docLinkHtml = 'Like what you see? Visit the ' +\n",
              "            '<a target=\"_blank\" href=https://colab.research.google.com/notebooks/data_table.ipynb>data table notebook</a>'\n",
              "            + ' to learn more about interactive tables.';\n",
              "          element.innerHTML = '';\n",
              "          dataTable['output_type'] = 'display_data';\n",
              "          await google.colab.output.renderOutput(dataTable, element);\n",
              "          const docLink = document.createElement('div');\n",
              "          docLink.innerHTML = docLinkHtml;\n",
              "          element.appendChild(docLink);\n",
              "        }\n",
              "      </script>\n",
              "    </div>\n",
              "  </div>\n",
              "  "
            ]
          },
          "metadata": {},
          "execution_count": 4
        }
      ],
      "source": [
        "df = pd.read_csv('Pearson.tsv', delimiter = '\\t')\n",
        "df"
      ]
    },
    {
      "cell_type": "markdown",
      "id": "bda1311e",
      "metadata": {
        "id": "bda1311e"
      },
      "source": [
        "let's check the minimum and maximum values of parameters"
      ]
    },
    {
      "cell_type": "code",
      "execution_count": 5,
      "id": "645e591d",
      "metadata": {
        "colab": {
          "base_uri": "https://localhost:8080/"
        },
        "id": "645e591d",
        "outputId": "1a6d1733-dd4e-4e05-de56-9f7e2917c0da"
      },
      "outputs": [
        {
          "output_type": "stream",
          "name": "stdout",
          "text": [
            "minimum sons: 58.5  maximum sons: 78.4\n",
            "minimum dads: 59.0  maximum dads: 75.4\n"
          ]
        }
      ],
      "source": [
        "print('minimum sons:', df.Son.min(), ' maximum sons:', df.Son.max())\n",
        "print('minimum dads:', df.Father.min(), ' maximum dads:', df.Father.max())"
      ]
    },
    {
      "cell_type": "markdown",
      "id": "4820d5cc",
      "metadata": {
        "id": "4820d5cc"
      },
      "source": [
        "To divide the data to 3 representative parts we should make them approximately of the same weight"
      ]
    },
    {
      "cell_type": "code",
      "execution_count": 6,
      "id": "88838fec",
      "metadata": {
        "scrolled": true,
        "colab": {
          "base_uri": "https://localhost:8080/"
        },
        "id": "88838fec",
        "outputId": "083c722b-5751-4567-c701-57b24933d235"
      },
      "outputs": [
        {
          "output_type": "execute_result",
          "data": {
            "text/plain": [
              "(363, 395, 320)"
            ]
          },
          "metadata": {},
          "execution_count": 6
        }
      ],
      "source": [
        "len(df[df['Son'] <= 67.5]['Father']), len(df[(df['Son'] > 67.5) &(df['Son'] <= 70)]['Father']), len(df[df['Son'] > 70]['Father'])"
      ]
    },
    {
      "cell_type": "code",
      "execution_count": 7,
      "id": "da656efc",
      "metadata": {
        "colab": {
          "base_uri": "https://localhost:8080/"
        },
        "id": "da656efc",
        "outputId": "3129fb87-98c2-497a-acbf-04a0b5574b28"
      },
      "outputs": [
        {
          "output_type": "execute_result",
          "data": {
            "text/plain": [
              "(373, 362, 343)"
            ]
          },
          "metadata": {},
          "execution_count": 7
        }
      ],
      "source": [
        "len(df[df['Father'] <= 66.5]['Son']), len(df[(df['Father'] > 66.5) &(df['Father'] <= 69)]['Son']), len(df[df['Father'] > 69]['Son'])"
      ]
    },
    {
      "cell_type": "markdown",
      "id": "cb340f5f",
      "metadata": {
        "id": "cb340f5f"
      },
      "source": [
        "So, to make the parts balanced we should divide the son's and the father's data at different values\n",
        "\n",
        "Let's make up the data for visualizing"
      ]
    },
    {
      "cell_type": "code",
      "execution_count": 8,
      "id": "9f25360c",
      "metadata": {
        "id": "9f25360c"
      },
      "outputs": [],
      "source": [
        "#data\n",
        "x1 = df[df['Son'] <= 67.5]['Father'] #fathers with sons lower than 67.5\n",
        "x2 = df[(df['Son'] > 67.5) &(df['Son'] <= 70)]['Father'] #fathers with sons lower than 70 but higher than 67.5\n",
        "x3 = df[df['Son'] > 70]['Father'] #fathers with sons higher than 70\n",
        "\n",
        "y1 = df[df['Father'] <= 66.5]['Son'] #sons with father lower than 66.5\n",
        "y2 = df[(df['Father'] > 66.5) &(df['Father'] <= 69)]['Son'] #sons with father lower than 69 but higher than 66.5\n",
        "y3 = df[df['Father'] > 69]['Son'] #sons with father higher than 69"
      ]
    },
    {
      "cell_type": "markdown",
      "id": "4afa8844",
      "metadata": {
        "id": "4afa8844"
      },
      "source": [
        "## Visualization "
      ]
    },
    {
      "cell_type": "markdown",
      "id": "03d8b398",
      "metadata": {
        "id": "03d8b398"
      },
      "source": [
        "Links to download the used fonts:\n",
        "* [Caveat](https://fonts.google.com/specimen/Caveat)\n",
        "* [Press Start 2P](https://fonts.google.com/specimen/Press+Start+2P)"
      ]
    },
    {
      "cell_type": "code",
      "execution_count": 13,
      "id": "a7730ee8",
      "metadata": {
        "id": "a7730ee8"
      },
      "outputs": [],
      "source": [
        "path_Press = 'PressStart2P-Regular.ttf' # your path to .ttf file\n",
        "path_Caveat = 'Caveat-VariableFont_wght.ttf'\n",
        "\n",
        "prop_Caveat = font_manager.FontProperties(fname=path_Caveat)\n",
        "prop_Press = font_manager.FontProperties(fname=path_Press)\n",
        "\n",
        "font_manager.fontManager.addfont(path_Caveat)\n",
        "plt.rcParams['font.family'] = 'sans-serif'\n",
        "plt.rcParams['font.sans-serif'] = prop_Caveat.get_name()"
      ]
    },
    {
      "cell_type": "code",
      "execution_count": 14,
      "id": "f096857d",
      "metadata": {
        "id": "f096857d"
      },
      "outputs": [],
      "source": [
        "grid = plt.GridSpec(8, 8, wspace=0.2, hspace=0.7)"
      ]
    },
    {
      "cell_type": "code",
      "execution_count": 20,
      "id": "dd4a9ce9",
      "metadata": {
        "colab": {
          "base_uri": "https://localhost:8080/",
          "height": 819
        },
        "id": "dd4a9ce9",
        "outputId": "76269ef1-4104-4697-80cb-bc46c57d99b2"
      },
      "outputs": [
        {
          "output_type": "display_data",
          "data": {
            "text/plain": [
              "<Figure size 1100x900 with 7 Axes>"
            ],
            "image/png": "[encoded data removed]"
          },
          "metadata": {}
        }
      ],
      "source": [
        "matplotlib.rcParams['figure.figsize'] = (11, 9)\n",
        "matplotlib.rcParams['font.size'] = 16\n",
        "\n",
        "\n",
        "general_ax = plt.subplot(grid[0:5, 0:5])\n",
        "general_ax.scatter(df['Father'], df['Son'])\n",
        "general_ax.set_xticks([60, 65, 70, 75])\n",
        "general_ax.set_yticks([60, 65, 70, 75])\n",
        "general_ax.set_title(\"Fathers' height\", fontsize = 16)\n",
        "general_ax.set_ylabel(\"Sons' height\")\n",
        "\n",
        "\n",
        "y1_ax = plt.subplot(grid[0:5, 5])\n",
        "y1_ax.hist(y1, bins=15, orientation='horizontal')\n",
        "y1_ax.text(0.5, 1, 'fathers < 66.5',\n",
        "        horizontalalignment='center',\n",
        "        verticalalignment='bottom',\n",
        "        transform=y1_ax.transAxes)\n",
        "y1_ax.set_yticks([]) \n",
        "y2_ax = plt.subplot(grid[0:5, 6])\n",
        "y2_ax.hist(y2, bins=15, orientation='horizontal') \n",
        "y2_ax.text(0.5, 1.05, '66.5 < fathers < 69',\n",
        "        horizontalalignment='center',\n",
        "        verticalalignment='bottom',\n",
        "        transform=y2_ax.transAxes)\n",
        "y2_ax.set_yticks([]) \n",
        "y3_ax = plt.subplot(grid[0:5, 7])\n",
        "y3_ax.hist(y3, bins=15, orientation='horizontal') \n",
        "y3_ax.text(0.5, 1.0, 'fathers > 69',\n",
        "        horizontalalignment='center',\n",
        "        verticalalignment='bottom',\n",
        "        transform=y3_ax.transAxes)\n",
        "y3_ax.set_yticks([]) \n",
        "\n",
        "\n",
        "x1_ax = plt.subplot(grid[5, 0:5])\n",
        "x1_ax.hist(x1, bins=15)\n",
        "x1_ax.invert_yaxis()\n",
        "x1_ax.text(0.2, 0.1, 'sons < 67.5',\n",
        "        horizontalalignment='right',\n",
        "        verticalalignment='bottom',\n",
        "        transform=x1_ax.transAxes)\n",
        "x1_ax.set_xticks([]) \n",
        "x2_ax = plt.subplot(grid[6, 0:5])\n",
        "x2_ax.hist(x2, bins=15)\n",
        "x2_ax.text(0.26, 0.1, '67.5 < sons < 70',\n",
        "        horizontalalignment='right',\n",
        "        verticalalignment='bottom',\n",
        "        transform=x2_ax.transAxes)\n",
        "x2_ax.invert_yaxis()\n",
        "x2_ax.set_xticks([]) \n",
        "x3_ax = plt.subplot(grid[7, 0:5])\n",
        "x3_ax.hist(x3, bins=15)\n",
        "x3_ax.invert_yaxis()\n",
        "x3_ax.text(0.2, 0.1, 'sons > 70',\n",
        "        horizontalalignment='right',\n",
        "        verticalalignment='bottom',\n",
        "        transform=x3_ax.transAxes)\n",
        "x3_ax.set_xticks([]) \n",
        "\n",
        "figure = plt.gcf()\n",
        "figure.suptitle('Fathers and sons', fontsize=24, fontproperties=prop_Press)\n",
        "plt.show()\n",
        "figure.savefig(\"Fathers&Sons.png\", dpi=500, facecolor = 'white')"
      ]
    },
    {
      "cell_type": "code",
      "source": [],
      "metadata": {
        "id": "EGvihj43-jFv"
      },
      "id": "EGvihj43-jFv",
      "execution_count": null,
      "outputs": []
    }
  ],
  "metadata": {
    "kernelspec": {
      "display_name": "Python 3 (ipykernel)",
      "language": "python",
      "name": "python3"
    },
    "language_info": {
      "codemirror_mode": {
        "name": "ipython",
        "version": 3
      },
      "file_extension": ".py",
      "mimetype": "text/x-python",
      "name": "python",
      "nbconvert_exporter": "python",
      "pygments_lexer": "ipython3",
      "version": "3.9.12"
    },
    "colab": {
      "provenance": []
    }
  },
  "nbformat": 4,
  "nbformat_minor": 5
}
